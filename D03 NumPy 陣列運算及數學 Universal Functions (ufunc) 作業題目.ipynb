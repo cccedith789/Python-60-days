{
 "cells": [
  {
   "cell_type": "markdown",
   "metadata": {
    "id": "rY2oyzUo2wKZ"
   },
   "source": [
    "作業目標:<br>\n",
    "嘗試練習log的函式並應用<br>\n",
    "作業重點:<br>\n",
    "學員需要複習log的轉換方式<br>\n",
    "熟悉運用指數函數以及對數函數"
   ]
  },
  {
   "cell_type": "markdown",
   "metadata": {
    "id": "Esjhs7zz2y95"
   },
   "source": [
    "題目:<br>\n",
    "運用投影片中的分貝公式回答下列問題。<br>\n",
    "1.正常的談話的聲壓為20000微巴斯卡，請問多少分貝?<br>\n",
    "2.30分貝的聲壓會是50分貝的幾倍?\n"
   ]
  },
  {
   "cell_type": "code",
   "execution_count": 1,
   "metadata": {
    "id": "SKVoN9E82yQi"
   },
   "outputs": [],
   "source": [
    "import numpy as np "
   ]
  },
  {
   "cell_type": "markdown",
   "metadata": {},
   "source": [
    "分貝公式 \n",
    "正常的人耳能夠聽到最微弱的聲音叫作「聽覺閾」為 20 個微巴斯卡 (縮寫為 μPa) ，\n",
    "以聲壓 20μPa 定義為 0 分貝，表示 V0 為 20μPa，\n",
    "其餘聲壓為 V1(微巴斯卡)，例如將 V1 帶入 200μPa，V0 為 20μPa，可以得到 20GdB。\n",
    "\n",
    "Gdb = 分貝\n",
    "V0 = 聲壓標準值\n",
    "V1 = 聲壓量測值\n",
    "\n",
    "20mpa = 0 分貝 ---> V0 為 20μPa\n",
    "np.log10()"
   ]
  },
  {
   "cell_type": "code",
   "execution_count": 9,
   "metadata": {
    "id": "knBzIEbisYO_"
   },
   "outputs": [
    {
     "data": {
      "text/plain": [
       "60.0"
      ]
     },
     "execution_count": 9,
     "metadata": {},
     "output_type": "execute_result"
    }
   ],
   "source": [
    "#1. 正常談話的聲壓為20000微巴斯卡，請問多少分貝?\n",
    "#請寫下程式\n",
    "V1 = 20000\n",
    "V0 = 20\n",
    "\n",
    "Gdb = 20*np.log10(V1/V0)\n",
    "Gdb"
   ]
  },
  {
   "cell_type": "code",
   "execution_count": null,
   "metadata": {
    "id": "5Vknqg8esbl_"
   },
   "outputs": [],
   "source": [
    "#2. 30分貝的聲壓會是50分貝的幾倍?\n",
    "#公式移項過後可以得到 V1 = ?\n",
    "#請寫下程式\n",
    "\n",
    "# 30 分貝 = 20*log10 (30的 V1/V0)\n",
    "# 50 分貝 = 20*log10 (50的 V1/V0)"
   ]
  },
  {
   "cell_type": "code",
   "execution_count": 11,
   "metadata": {
    "id": "LjGnv4Q-1t7u"
   },
   "outputs": [
    {
     "name": "stdout",
     "output_type": "stream",
     "text": [
      "0.09999999999999999\n"
     ]
    }
   ],
   "source": [
    "GDB30 = 10**(30/20)*V0\n",
    "GDB50 = 10**(50/20)*V0\n",
    "print(GDB30/GDB50)"
   ]
  },
  {
   "cell_type": "code",
   "execution_count": null,
   "metadata": {},
   "outputs": [],
   "source": []
  }
 ],
 "metadata": {
  "colab": {
   "authorship_tag": "ABX9TyNuy8nFyZsCqfcHKKs2ys9H",
   "collapsed_sections": [],
   "name": "作業_Hong題目.ipynb",
   "provenance": []
  },
  "kernelspec": {
   "display_name": "Python 3",
   "language": "python",
   "name": "python3"
  },
  "language_info": {
   "codemirror_mode": {
    "name": "ipython",
    "version": 3
   },
   "file_extension": ".py",
   "mimetype": "text/x-python",
   "name": "python",
   "nbconvert_exporter": "python",
   "pygments_lexer": "ipython3",
   "version": "3.8.5"
  }
 },
 "nbformat": 4,
 "nbformat_minor": 1
}
