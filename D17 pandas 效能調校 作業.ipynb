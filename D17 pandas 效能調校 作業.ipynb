{
 "cells": [
  {
   "cell_type": "markdown",
   "metadata": {},
   "source": [
    "D17 pandas 效能調校\n",
    "\n",
    "題目 : \n",
    "\n",
    "在速度較慢的時候，可以先從哪邊開始檢查？\n",
    "資料過大時應採取什麼方式讓記憶體占用量下降？"
   ]
  },
  {
   "cell_type": "markdown",
   "metadata": {},
   "source": [
    "檢查資料型態\n",
    "\n",
    "pkl 檔較快\n",
    "groupby + agg + 內建函數較快\n",
    "\n",
    "整數 int 改 uint\n",
    "浮點數 64 改 32"
   ]
  }
 ],
 "metadata": {
  "kernelspec": {
   "display_name": "Python 3",
   "language": "python",
   "name": "python3"
  },
  "language_info": {
   "codemirror_mode": {
    "name": "ipython",
    "version": 3
   },
   "file_extension": ".py",
   "mimetype": "text/x-python",
   "name": "python",
   "nbconvert_exporter": "python",
   "pygments_lexer": "ipython3",
   "version": "3.8.5"
  }
 },
 "nbformat": 4,
 "nbformat_minor": 4
}
