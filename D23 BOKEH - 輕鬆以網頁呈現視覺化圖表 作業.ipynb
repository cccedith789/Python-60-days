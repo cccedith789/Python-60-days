{
 "cells": [
  {
   "cell_type": "markdown",
   "metadata": {},
   "source": [
    "基本條形圖 條形圖是常見且重要的繪圖類型。通過Bokeh，可以輕鬆創建各種堆疊或嵌套的條形圖，並通常處理分類數據。 請使用vbar方法創建的，用於繪製垂直條。\n",
    "\n",
    "1.建立簡單的水果資料集\n",
    "\n",
    "fruits = ['Apples', 'Pears', 'Nectarines', 'Plums', 'Grapes', 'Strawberries']\n",
    "\n",
    "counts = [5, 3, 4, 2, 4, 6]\n",
    "\n",
    "2. 利用 Source 建立字典, 再用figure 輸出 BAR 圖\n",
    "\n",
    "source = ColumnDataSource(data=dict(fruits=fruits, counts=counts, color=Spectral6))"
   ]
  },
  {
   "cell_type": "code",
   "execution_count": 27,
   "metadata": {},
   "outputs": [],
   "source": [
    "from bokeh.plotting import figure\n",
    "from bokeh.plotting import output_file\n",
    "from bokeh.plotting import show\n",
    "from bokeh.models import widgets\n",
    "from bokeh.io import output_notebook\n",
    "from bokeh.plotting import figure, output_file, show\n",
    "from bokeh.resources import INLINE"
   ]
  },
  {
   "cell_type": "code",
   "execution_count": 28,
   "metadata": {},
   "outputs": [
    {
     "ename": "NameError",
     "evalue": "name 'ColumnDataSource' is not defined",
     "output_type": "error",
     "traceback": [
      "\u001b[1;31m---------------------------------------------------------------------------\u001b[0m",
      "\u001b[1;31mNameError\u001b[0m                                 Traceback (most recent call last)",
      "\u001b[1;32m<ipython-input-28-42092313456d>\u001b[0m in \u001b[0;36m<module>\u001b[1;34m\u001b[0m\n\u001b[0;32m      3\u001b[0m     \"counts\":[5, 3, 4, 2, 4, 6]}\n\u001b[0;32m      4\u001b[0m \u001b[1;33m\u001b[0m\u001b[0m\n\u001b[1;32m----> 5\u001b[1;33m \u001b[0msource\u001b[0m \u001b[1;33m=\u001b[0m \u001b[0mColumnDataSource\u001b[0m\u001b[1;33m(\u001b[0m\u001b[0mdata\u001b[0m\u001b[1;33m=\u001b[0m\u001b[0mdict\u001b[0m\u001b[1;33m(\u001b[0m\u001b[0mfruits\u001b[0m\u001b[1;33m=\u001b[0m\u001b[0mfruits\u001b[0m\u001b[1;33m,\u001b[0m \u001b[0mcounts\u001b[0m\u001b[1;33m=\u001b[0m\u001b[0mcounts\u001b[0m\u001b[1;33m,\u001b[0m \u001b[0mcolor\u001b[0m\u001b[1;33m=\u001b[0m\u001b[0mSpectral6\u001b[0m\u001b[1;33m)\u001b[0m\u001b[1;33m)\u001b[0m\u001b[1;33m\u001b[0m\u001b[1;33m\u001b[0m\u001b[0m\n\u001b[0m\u001b[0;32m      6\u001b[0m \u001b[1;33m\u001b[0m\u001b[0m\n\u001b[0;32m      7\u001b[0m source = figure(\n",
      "\u001b[1;31mNameError\u001b[0m: name 'ColumnDataSource' is not defined"
     ]
    }
   ],
   "source": [
    "data = {\n",
    "    \"fruits\":['Apples', 'Pears', 'Nectarines', 'Plums', 'Grapes', 'Strawberries'],\n",
    "    \"counts\":[5, 3, 4, 2, 4, 6]}\n",
    "\n",
    "source = ColumnDataSource(data=dict(fruits=fruits, counts=counts, color=Spectral6))\n",
    "\n",
    "source = figure(\n",
    "    title=\"fruits\",\n",
    "    x_axis_label = \"fruit\",\n",
    "    y_axis_label = \"count\")\n",
    "\n",
    "show(source)\n"
   ]
  },
  {
   "cell_type": "code",
   "execution_count": null,
   "metadata": {},
   "outputs": [],
   "source": [
    "https://docs.bokeh.org/en/0.12.5/docs/reference/charts.html\n",
    "\n",
    "from bokeh.charts import Bar, output_file, show\n",
    "from bokeh.layouts import row\n",
    "\n",
    "# best support is with data in a format that is table-like\n",
    "data = {\n",
    "    'sample': ['1st', '2nd', '1st', '2nd', '1st', '2nd'],\n",
    "    'interpreter': ['python', 'python', 'pypy', 'pypy', 'jython', 'jython'],\n",
    "    'timing': [-2, 5, 12, 40, 22, 30]\n",
    "}\n",
    "\n",
    "# x-axis labels pulled from the interpreter column, stacking labels from sample column\n",
    "bar = Bar(data, values='timing', label='interpreter', stack='sample', agg='mean',\n",
    "          title=\"Python Interpreter Sampling\", legend='top_right', plot_width=400)\n",
    "\n",
    "# table-like data results in reconfiguration of the chart with no data manipulation\n",
    "bar2 = Bar(data, values='timing', label=['interpreter', 'sample'],\n",
    "           agg='mean', title=\"Python Interpreters\", plot_width=400)\n",
    "\n",
    "output_file(\"stacked_bar.html\")\n",
    "show(row(bar, bar2))"
   ]
  }
 ],
 "metadata": {
  "kernelspec": {
   "display_name": "Python 3",
   "language": "python",
   "name": "python3"
  },
  "language_info": {
   "codemirror_mode": {
    "name": "ipython",
    "version": 3
   },
   "file_extension": ".py",
   "mimetype": "text/x-python",
   "name": "python",
   "nbconvert_exporter": "python",
   "pygments_lexer": "ipython3",
   "version": "3.8.5"
  }
 },
 "nbformat": 4,
 "nbformat_minor": 4
}
