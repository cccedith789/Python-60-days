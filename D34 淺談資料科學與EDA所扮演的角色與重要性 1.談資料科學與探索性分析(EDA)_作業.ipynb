{
 "cells": [
  {
   "cell_type": "markdown",
   "metadata": {},
   "source": [
    "作業:\n",
    "今天課程中以一個案例，說明資料分析的流程與探索性分析，是否對於課程中一開始的問題，更有想法了?!    \n",
    "Q1: 哪一個問題不適合用資料科學解決?   \n",
    "Q2: 以你的角度來分析，為什麼這樣的問題，較不適合用資料來解決?    \n",
    "將答案寫在論壇中，大家一起互相討論激盪。"
   ]
  },
  {
   "cell_type": "markdown",
   "metadata": {},
   "source": [
    "'''\n",
    "開始今天的課程前，希望大家能先想想這個問題下的答案，在今天上完課後，在思考一下這一題的答案，看有沒有甚麼不同？\n",
    "\n",
    "1. 挑選 Mr./Ms. Right\n",
    "\n",
    "2. 顧客下次會買哪些東西？\n",
    "\n",
    "3. 半導體的良率預測？\n",
    "'''\n",
    "\n",
    "因為買東西有紀錄，可以整理出消費習慣\n",
    "\n",
    "良率有資料可以計算\n",
    "\n",
    "故覺得挑選 Mr./Ms. Right 較不適用，較難用量化的數字來區分"
   ]
  },
  {
   "cell_type": "code",
   "execution_count": null,
   "metadata": {},
   "outputs": [],
   "source": []
  }
 ],
 "metadata": {
  "colab": {
   "name": "Day33.YOLO 細節理解 - 網路輸出的後處理_HW.ipynb",
   "provenance": []
  },
  "kernelspec": {
   "display_name": "Python 3",
   "language": "python",
   "name": "python3"
  },
  "language_info": {
   "codemirror_mode": {
    "name": "ipython",
    "version": 3
   },
   "file_extension": ".py",
   "mimetype": "text/x-python",
   "name": "python",
   "nbconvert_exporter": "python",
   "pygments_lexer": "ipython3",
   "version": "3.8.5"
  }
 },
 "nbformat": 4,
 "nbformat_minor": 1
}
